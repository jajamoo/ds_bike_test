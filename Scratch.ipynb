{
 "cells": [
  {
   "cell_type": "code",
   "execution_count": 4,
   "metadata": {},
   "outputs": [
    {
     "ename": "IndentationError",
     "evalue": "unexpected indent (<ipython-input-4-6c6364da683a>, line 2)",
     "output_type": "error",
     "traceback": [
      "\u001b[0;36m  File \u001b[0;32m\"<ipython-input-4-6c6364da683a>\"\u001b[0;36m, line \u001b[0;32m2\u001b[0m\n\u001b[0;31m    data.columns = ['West', 'East']\u001b[0m\n\u001b[0m    ^\u001b[0m\n\u001b[0;31mIndentationError\u001b[0m\u001b[0;31m:\u001b[0m unexpected indent\n"
     ]
    }
   ],
   "source": [
    "from bike_workflow.data import get_data\n",
    "import pandas as pd\n",
    "\n",
    "\n",
    "def test_data():\n",
    "    data = get_data()\n",
    "\n",
    "    assert all(data.columns == ['West', 'East', 'Total'])\n",
    "    assert isinstance(data.index, pd.DatetimeIndex)"
   ]
  },
  {
   "cell_type": "code",
   "execution_count": null,
   "metadata": {},
   "outputs": [],
   "source": [
    "import pandas as pd\n",
    "\n",
    "\n",
    "data = pd.read_csv('fremont.csv', index_col = 'Date')\n",
    "try:\n",
    "    data.index = pd.to_datetime(data.index, format = '%m/%d/%Y %H:%M:%S %p')\n",
    "except:\n",
    "    data.index = pd.to_datetime(data.index)"
   ]
  }
 ],
 "metadata": {
  "kernelspec": {
   "display_name": "Python 3",
   "language": "python",
   "name": "python3"
  },
  "language_info": {
   "codemirror_mode": {
    "name": "ipython",
    "version": 3
   },
   "file_extension": ".py",
   "mimetype": "text/x-python",
   "name": "python",
   "nbconvert_exporter": "python",
   "pygments_lexer": "ipython3",
   "version": "3.6.3"
  }
 },
 "nbformat": 4,
 "nbformat_minor": 2
}
